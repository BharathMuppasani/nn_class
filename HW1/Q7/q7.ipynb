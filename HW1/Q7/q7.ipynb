{
 "cells": [
  {
   "cell_type": "markdown",
   "metadata": {},
   "source": [
    "### Analysis of the Given Functions Based on Linearity\n",
    "\n",
    "A function is **linear** if it satisfies two properties:\n",
    "1. **Superposition (Additivity)**: $$ f(x_1 + x_2) = f(x_1) + f(x_2) $$\n",
    "2. **Homogeneity (Scaling)**: $$ f(\\alpha x) = \\alpha f(x) $$, where $$ \\alpha $$ is a scalar.\n",
    "\n",
    "---\n",
    "\n",
    "#### (a) $$ f(x) = |x| $$\n",
    "\n",
    "- **Superposition**: $$ f(x_1 + x_2) \\neq f(x_1) + f(x_2) $$ because $$ |x_1 + x_2| $$ is not always equal to $$ |x_1| + |x_2| $$.\n",
    "- **Homogeneity**: $$ f(\\alpha x) = |\\alpha x| = |\\alpha| |x| $$, so it fails for negative $$ \\alpha $$.\n",
    "\n",
    "**Conclusion**: Nonlinear.\n",
    "\n",
    "---\n",
    "\n",
    "#### (b) $$ f(x) = x^2 + 2x + 2 $$\n",
    "\n",
    "- **Superposition**: $$ f(x_1 + x_2) \\neq f(x_1) + f(x_2) $$, as the square term makes the addition non-linear.\n",
    "- **Homogeneity**: $$ f(\\alpha x) = \\alpha^2 x^2 + 2\\alpha x + 2 $$, which doesn’t scale linearly.\n",
    "\n",
    "**Conclusion**: Nonlinear.\n",
    "\n",
    "---\n",
    "\n",
    "#### (c) $$ f(x) = \\frac{1}{x} $$\n",
    "\n",
    "- **Superposition**: $$ f(x_1 + x_2) \\neq f(x_1) + f(x_2) $$, as reciprocal functions are not additive.\n",
    "- **Homogeneity**: $$ f(\\alpha x) = \\frac{1}{\\alpha x} = \\frac{1}{\\alpha} f(x) $$, so it fails the homogeneity test.\n",
    "\n",
    "**Conclusion**: Nonlinear.\n"
   ]
  }
 ],
 "metadata": {
  "language_info": {
   "name": "python"
  }
 },
 "nbformat": 4,
 "nbformat_minor": 2
}
