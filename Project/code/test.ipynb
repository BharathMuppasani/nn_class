{
 "cells": [
  {
   "cell_type": "code",
   "execution_count": 36,
   "metadata": {},
   "outputs": [],
   "source": [
    "import json\n",
    "import numpy as np"
   ]
  },
  {
   "cell_type": "code",
   "execution_count": 37,
   "metadata": {},
   "outputs": [],
   "source": [
    "json_path = 'train_data/ddqn_per_test/q_values_log.json'\n",
    "# load into dict\n",
    "with open(json_path, 'r') as f:\n",
    "    q_values = json.load(f)\n"
   ]
  },
  {
   "cell_type": "code",
   "execution_count": 38,
   "metadata": {},
   "outputs": [],
   "source": [
    "train_log_path = 'train_data/ddqn_per_test/training_logs.json'\n",
    "with open(train_log_path, 'r') as f:\n",
    "    train_logs = json.load(f)"
   ]
  },
  {
   "cell_type": "code",
   "execution_count": 39,
   "metadata": {},
   "outputs": [
    {
     "data": {
      "text/plain": [
       "300"
      ]
     },
     "execution_count": 39,
     "metadata": {},
     "output_type": "execute_result"
    }
   ],
   "source": [
    "len(train_logs['episode_lengths'])"
   ]
  },
  {
   "cell_type": "code",
   "execution_count": 40,
   "metadata": {},
   "outputs": [
    {
     "name": "stdout",
     "output_type": "stream",
     "text": [
      "38288 207\n"
     ]
    }
   ],
   "source": [
    "frames_count = 0\n",
    "episode_till = 250\n",
    "for i in range(episode_till):\n",
    "    frames_count += train_logs['episode_lengths'][i]\n",
    "\n",
    "print(frames_count, train_logs['episode_lengths'][episode_till])"
   ]
  },
  {
   "cell_type": "code",
   "execution_count": null,
   "metadata": {},
   "outputs": [],
   "source": []
  },
  {
   "cell_type": "code",
   "execution_count": 41,
   "metadata": {},
   "outputs": [
    {
     "data": {
      "text/plain": [
       "59687"
      ]
     },
     "execution_count": 41,
     "metadata": {},
     "output_type": "execute_result"
    }
   ],
   "source": [
    "len(q_values['target_q_values'])"
   ]
  },
  {
   "cell_type": "code",
   "execution_count": 42,
   "metadata": {},
   "outputs": [
    {
     "data": {
      "text/plain": [
       "dict_keys(['target_q_values', 'current_q_values', 'next_q_values', 'dones', 'td_errors'])"
      ]
     },
     "execution_count": 42,
     "metadata": {},
     "output_type": "execute_result"
    }
   ],
   "source": [
    "q_values.keys()"
   ]
  },
  {
   "cell_type": "code",
   "execution_count": 43,
   "metadata": {},
   "outputs": [],
   "source": [
    "new_q_values = {}\n",
    "new_q_values = q_values.keys()"
   ]
  },
  {
   "cell_type": "code",
   "execution_count": null,
   "metadata": {},
   "outputs": [],
   "source": [
    "print"
   ]
  },
  {
   "cell_type": "code",
   "execution_count": 61,
   "metadata": {},
   "outputs": [
    {
     "name": "stdout",
     "output_type": "stream",
     "text": [
      "0.4847022779285908\n"
     ]
    }
   ],
   "source": [
    "print(q_values['td_errors'][frames_count])\n"
   ]
  },
  {
   "cell_type": "code",
   "execution_count": 45,
   "metadata": {},
   "outputs": [],
   "source": [
    "for key in q_values.keys():\n",
    "    for i in range(len(q_values[key])):\n",
    "        for j in range(len(q_values[key][i])):\n",
    "            q_values[key][i][j] = q_values[key][i][j][0]\n",
    "        q_values[key][i] = np.mean(q_values[key][i])\n",
    "            "
   ]
  },
  {
   "cell_type": "code",
   "execution_count": 49,
   "metadata": {},
   "outputs": [
    {
     "data": {
      "text/plain": [
       "59687"
      ]
     },
     "execution_count": 49,
     "metadata": {},
     "output_type": "execute_result"
    }
   ],
   "source": []
  },
  {
   "cell_type": "code",
   "execution_count": 53,
   "metadata": {},
   "outputs": [],
   "source": [
    "target_q_values_list = [0 for _ in range(len(train_logs['episode_lengths']))]\n",
    "frames_so_far = 0\n",
    "\n",
    "flag = 0\n",
    "for i in range(len(train_logs['episode_lengths'])):\n",
    "    frames = train_logs['episode_lengths'][i]\n",
    "    frames_so_far += frames\n",
    "    if flag == 0:\n",
    "        if frames_so_far < 64:\n",
    "            continue\n",
    "        else:\n",
    "            flag = 1\n",
    "            skipped_frames = frames_so_far - 64\n",
    "            target_q_values_list[i] = np.mean(q_values['target_q_values'][:skipped_frames])\n",
    "    else:\n",
    "        target_q_values_list[i] = np.mean(q_values['target_q_values'][frames_so_far - frames:frames_so_far])"
   ]
  },
  {
   "cell_type": "code",
   "execution_count": 55,
   "metadata": {},
   "outputs": [],
   "source": [
    "current_q_values_list = [0 for _ in range(len(train_logs['episode_lengths']))]\n",
    "frames_so_far = 0\n",
    "\n",
    "flag = 0\n",
    "for i in range(len(train_logs['episode_lengths'])):\n",
    "    frames = train_logs['episode_lengths'][i]\n",
    "    frames_so_far += frames\n",
    "    if flag == 0:\n",
    "        if frames_so_far < 64:\n",
    "            continue\n",
    "        else:\n",
    "            flag = 1\n",
    "            skipped_frames = frames_so_far - 64\n",
    "            current_q_values_list[i] = np.mean(q_values['current_q_values'][:skipped_frames])\n",
    "    else:\n",
    "        current_q_values_list[i] = np.mean(q_values['current_q_values'][frames_so_far - frames:frames_so_far])"
   ]
  },
  {
   "cell_type": "code",
   "execution_count": 57,
   "metadata": {},
   "outputs": [],
   "source": [
    "next_q_values_list = [0 for _ in range(len(train_logs['episode_lengths']))]\n",
    "frames_so_far = 0\n",
    "\n",
    "flag = 0\n",
    "for i in range(len(train_logs['episode_lengths'])):\n",
    "    frames = train_logs['episode_lengths'][i]\n",
    "    frames_so_far += frames\n",
    "    if flag == 0:\n",
    "        if frames_so_far < 64:\n",
    "            continue\n",
    "        else:\n",
    "            flag = 1\n",
    "            skipped_frames = frames_so_far - 64\n",
    "            next_q_values_list[i] = np.mean(q_values['next_q_values'][:skipped_frames])\n",
    "    else:\n",
    "        next_q_values_list[i] = np.mean(q_values['next_q_values'][frames_so_far - frames:frames_so_far])"
   ]
  },
  {
   "cell_type": "code",
   "execution_count": 62,
   "metadata": {},
   "outputs": [],
   "source": [
    "td_errors_list = [0 for _ in range(len(train_logs['episode_lengths']))]\n",
    "frames_so_far = 0\n",
    "\n",
    "flag = 0\n",
    "for i in range(len(train_logs['episode_lengths'])):\n",
    "    frames = train_logs['episode_lengths'][i]\n",
    "    frames_so_far += frames\n",
    "    if flag == 0:\n",
    "        if frames_so_far < 64:\n",
    "            continue\n",
    "        else:\n",
    "            flag = 1\n",
    "            skipped_frames = frames_so_far - 64\n",
    "            td_errors_list[i] = np.mean(q_values['td_errors'][:skipped_frames])\n",
    "    else:\n",
    "        td_errors_list[i] = np.mean(q_values['td_errors'][frames_so_far - frames:frames_so_far])"
   ]
  },
  {
   "cell_type": "code",
   "execution_count": 67,
   "metadata": {},
   "outputs": [
    {
     "data": {
      "image/png": "[encoded data removed]",
      "text/plain": [
       "<Figure size 720x720 with 4 Axes>"
      ]
     },
     "metadata": {
      "needs_background": "light"
     },
     "output_type": "display_data"
    }
   ],
   "source": [
    "import matplotlib.pyplot as plt\n",
    "\n",
    "# axes subplot with all 4 lists in different axes\n",
    "fig, ax = plt.subplots(4, 1, figsize=(10, 10))\n",
    "ax[0].plot(target_q_values_list)\n",
    "ax[0].set_title('Target Q values')\n",
    "ax[1].plot(current_q_values_list)\n",
    "ax[1].set_title('Current Q values')\n",
    "ax[2].plot(next_q_values_list)\n",
    "ax[2].set_title('Next Q values')\n",
    "ax[3].plot(td_errors_list)\n",
    "ax[3].set_title('TD errors')\n",
    "fig.tight_layout()\n"
   ]
  },
  {
   "cell_type": "code",
   "execution_count": null,
   "metadata": {},
   "outputs": [],
   "source": []
  },
  {
   "cell_type": "code",
   "execution_count": null,
   "metadata": {},
   "outputs": [],
   "source": [
    "# "
   ]
  }
 ],
 "metadata": {
  "kernelspec": {
   "display_name": "rl_infoSpread",
   "language": "python",
   "name": "python3"
  },
  "language_info": {
   "codemirror_mode": {
    "name": "ipython",
    "version": 3
   },
   "file_extension": ".py",
   "mimetype": "text/x-python",
   "name": "python",
   "nbconvert_exporter": "python",
   "pygments_lexer": "ipython3",
   "version": "3.7.12"
  }
 },
 "nbformat": 4,
 "nbformat_minor": 2
}
